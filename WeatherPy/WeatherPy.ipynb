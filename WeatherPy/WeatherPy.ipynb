{
 "cells": [
  {
   "cell_type": "markdown",
   "metadata": {},
   "source": [
    "# WeatherPy\n",
    "----\n",
    "\n",
    "#### Note\n",
    "* Instructions have been included for each segment. You do not have to follow them exactly, but they are included to help you think through the steps."
   ]
  },
  {
   "cell_type": "code",
   "execution_count": 150,
   "metadata": {
    "scrolled": false
   },
   "outputs": [],
   "source": [
    "# Dependencies and Setup\n",
    "import matplotlib.pyplot as plt\n",
    "import pandas as pd\n",
    "import numpy as np\n",
    "import requests\n",
    "import time\n",
    "from scipy.stats import linregress\n",
    "\n",
    "# Import API key\n",
    "from api_keys import weather_api_key\n",
    "\n",
    "# Incorporated citipy to determine city based on latitude and longitude\n",
    "from citipy import citipy\n",
    "\n",
    "# Output File (CSV)\n",
    "output_data_file = \"output_data/cities.csv\"\n",
    "\n",
    "# Range of latitudes and longitudes\n",
    "lat_range = (-90, 90)\n",
    "lng_range = (-180, 180)"
   ]
  },
  {
   "cell_type": "markdown",
   "metadata": {},
   "source": [
    "## Generate Cities List"
   ]
  },
  {
   "cell_type": "code",
   "execution_count": 151,
   "metadata": {},
   "outputs": [
    {
     "data": {
      "text/plain": [
       "627"
      ]
     },
     "execution_count": 151,
     "metadata": {},
     "output_type": "execute_result"
    }
   ],
   "source": [
    "# List for holding lat_lngs and cities\n",
    "lat_lngs = []\n",
    "cities = []\n",
    "\n",
    "# Create a set of random lat and lng combinations\n",
    "lats = np.random.uniform(lat_range[0], lat_range[1], size=1500)\n",
    "lngs = np.random.uniform(lng_range[0], lng_range[1], size=1500)\n",
    "lat_lngs = zip(lats, lngs)\n",
    "\n",
    "# Identify nearest city for each lat, lng combination\n",
    "for lat_lng in lat_lngs:\n",
    "    city = citipy.nearest_city(lat_lng[0], lat_lng[1]).city_name\n",
    "    \n",
    "    # If the city is unique, then add it to a our cities list\n",
    "    if city not in cities:\n",
    "        cities.append(city)\n",
    "\n",
    "# Print the city count to confirm sufficient count\n",
    "len(cities)"
   ]
  },
  {
   "cell_type": "markdown",
   "metadata": {},
   "source": [
    "# Perform API Calls\n",
    "* Perform a weather check on each city using a series of successive API calls.\n",
    "* Include a print log of each city as it'sbeing processed (with the city number and city name).\n"
   ]
  },
  {
   "cell_type": "code",
   "execution_count": 115,
   "metadata": {},
   "outputs": [
    {
     "name": "stdout",
     "output_type": "stream",
     "text": [
      "Beginning Data Retrieval \n",
      "-----------------------------\n",
      " Processing Record 1 of Set 1 | dikson\n",
      " Processing Record 2 of Set 1 | scarborough\n",
      " Processing Record 3 of Set 1 | richards bay\n",
      " Processing Record 4 of Set 1 | ormara\n",
      "City not found. Skipping...\n",
      " Processing Record 5 of Set 1 | punta arenas\n",
      " Processing Record 6 of Set 1 | tasiilaq\n",
      " Processing Record 7 of Set 1 | carutapera\n",
      " Processing Record 8 of Set 1 | nhulunbuy\n",
      "City not found. Skipping...\n",
      " Processing Record 9 of Set 1 | khatanga\n",
      " Processing Record 10 of Set 1 | san pedro\n",
      " Processing Record 11 of Set 1 | sergeyevka\n",
      " Processing Record 12 of Set 1 | comodoro rivadavia\n",
      " Processing Record 13 of Set 1 | talnakh\n",
      " Processing Record 14 of Set 1 | san cristobal\n",
      " Processing Record 15 of Set 1 | tambilil\n",
      " Processing Record 16 of Set 1 | tovste\n",
      " Processing Record 17 of Set 1 | nome\n",
      " Processing Record 18 of Set 1 | bac lieu\n",
      " Processing Record 19 of Set 1 | hermanus\n",
      " Processing Record 20 of Set 1 | ishigaki\n",
      " Processing Record 21 of Set 1 | bilma\n",
      " Processing Record 22 of Set 1 | klaksvik\n",
      " Processing Record 23 of Set 1 | flin flon\n",
      " Processing Record 24 of Set 1 | la ronge\n",
      " Processing Record 25 of Set 1 | severo-kurilsk\n",
      " Processing Record 26 of Set 1 | grand gaube\n",
      " Processing Record 27 of Set 1 | mataura\n",
      "City not found. Skipping...\n",
      " Processing Record 28 of Set 1 | oranjestad\n",
      " Processing Record 29 of Set 1 | kavieng\n",
      " Processing Record 30 of Set 1 | rikitea\n",
      " Processing Record 31 of Set 1 | labuan\n",
      " Processing Record 32 of Set 1 | qaanaaq\n",
      " Processing Record 33 of Set 1 | arraial do cabo\n",
      " Processing Record 34 of Set 1 | hami\n",
      " Processing Record 35 of Set 1 | walvis bay\n",
      " Processing Record 36 of Set 1 | kyren\n",
      " Processing Record 37 of Set 1 | clyde river\n",
      " Processing Record 38 of Set 1 | saint-philippe\n",
      " Processing Record 39 of Set 1 | neder vindinge\n",
      " Processing Record 40 of Set 1 | nikolskoye\n",
      "City not found. Skipping...\n",
      " Processing Record 41 of Set 1 | luderitz\n",
      " Processing Record 42 of Set 1 | busselton\n",
      " Processing Record 43 of Set 1 | albany\n",
      " Processing Record 44 of Set 1 | new norfolk\n",
      " Processing Record 45 of Set 1 | ushuaia\n",
      " Processing Record 46 of Set 1 | torbay\n",
      " Processing Record 47 of Set 1 | portland\n",
      " Processing Record 48 of Set 1 | puro\n",
      " Processing Record 49 of Set 1 | smithers\n",
      " Processing Record 50 of Set 1 | kahului\n",
      " Processing Record 1 of Set 2 | ribeira grande\n",
      " Processing Record 2 of Set 2 | coahuayana\n",
      " Processing Record 3 of Set 2 | geraldton\n",
      " Processing Record 4 of Set 2 | along\n",
      " Processing Record 5 of Set 2 | yellowknife\n",
      " Processing Record 6 of Set 2 | eisenerz\n",
      " Processing Record 7 of Set 2 | jamestown\n",
      " Processing Record 8 of Set 2 | manicore\n",
      " Processing Record 9 of Set 2 | ahipara\n",
      " Processing Record 10 of Set 2 | upernavik\n",
      " Processing Record 11 of Set 2 | bonavista\n",
      " Processing Record 12 of Set 2 | kodiak\n",
      " Processing Record 13 of Set 2 | rocha\n",
      " Processing Record 14 of Set 2 | huarmey\n",
      " Processing Record 15 of Set 2 | shingu\n",
      " Processing Record 16 of Set 2 | nobeoka\n",
      " Processing Record 17 of Set 2 | ilulissat\n",
      " Processing Record 18 of Set 2 | bara\n",
      " Processing Record 19 of Set 2 | xinqing\n",
      "City not found. Skipping...\n",
      " Processing Record 20 of Set 2 | nantucket\n",
      " Processing Record 21 of Set 2 | cayenne\n",
      "City not found. Skipping...\n",
      " Processing Record 22 of Set 2 | sao joao da barra\n",
      " Processing Record 23 of Set 2 | jaisalmer\n",
      " Processing Record 24 of Set 2 | mwinilunga\n",
      " Processing Record 25 of Set 2 | salinas\n",
      " Processing Record 26 of Set 2 | sioux lookout\n",
      " Processing Record 27 of Set 2 | butaritari\n",
      " Processing Record 28 of Set 2 | presidencia roque saenz pena\n",
      " Processing Record 29 of Set 2 | saint-joseph\n",
      " Processing Record 30 of Set 2 | dashitou\n",
      " Processing Record 31 of Set 2 | tuktoyaktuk\n",
      " Processing Record 32 of Set 2 | pundaguitan\n",
      " Processing Record 33 of Set 2 | avera\n",
      " Processing Record 34 of Set 2 | college\n",
      "City not found. Skipping...\n",
      " Processing Record 35 of Set 2 | tigzirt\n",
      " Processing Record 36 of Set 2 | komsomolskiy\n",
      " Processing Record 37 of Set 2 | meridian\n",
      " Processing Record 38 of Set 2 | bluff\n",
      " Processing Record 39 of Set 2 | pasca\n",
      " Processing Record 40 of Set 2 | karratha\n",
      " Processing Record 41 of Set 2 | kirakira\n",
      " Processing Record 42 of Set 2 | kankon\n",
      " Processing Record 43 of Set 2 | vestmannaeyjar\n",
      " Processing Record 44 of Set 2 | avarua\n",
      "City not found. Skipping...\n",
      "City not found. Skipping...\n",
      " Processing Record 45 of Set 2 | esperance\n",
      " Processing Record 46 of Set 2 | kapaa\n",
      " Processing Record 47 of Set 2 | xuddur\n",
      " Processing Record 48 of Set 2 | vidalia\n",
      " Processing Record 49 of Set 2 | srednekolymsk\n",
      " Processing Record 50 of Set 2 | vostochnyy\n",
      " Processing Record 1 of Set 3 | puerto ayora\n",
      " Processing Record 2 of Set 3 | thompson\n",
      " Processing Record 3 of Set 3 | atuona\n",
      " Processing Record 4 of Set 3 | namatanai\n",
      " Processing Record 5 of Set 3 | port alfred\n",
      " Processing Record 6 of Set 3 | bengkulu\n",
      " Processing Record 7 of Set 3 | muscatine\n",
      " Processing Record 8 of Set 3 | lagoa\n",
      " Processing Record 9 of Set 3 | ostersund\n",
      " Processing Record 10 of Set 3 | cabo san lucas\n",
      " Processing Record 11 of Set 3 | batticaloa\n",
      " Processing Record 12 of Set 3 | vaini\n",
      "City not found. Skipping...\n",
      " Processing Record 13 of Set 3 | cape town\n",
      " Processing Record 14 of Set 3 | hilo\n",
      " Processing Record 15 of Set 3 | yulara\n",
      "City not found. Skipping...\n",
      " Processing Record 16 of Set 3 | hithadhoo\n",
      " Processing Record 17 of Set 3 | soe\n",
      " Processing Record 18 of Set 3 | yar-sale\n",
      " Processing Record 19 of Set 3 | jiancheng\n",
      "City not found. Skipping...\n",
      " Processing Record 20 of Set 3 | taut\n",
      " Processing Record 21 of Set 3 | caravelas\n",
      " Processing Record 22 of Set 3 | vao\n",
      " Processing Record 23 of Set 3 | salalah\n",
      " Processing Record 24 of Set 3 | kiruna\n",
      " Processing Record 25 of Set 3 | visby\n",
      " Processing Record 26 of Set 3 | cidreira\n",
      " Processing Record 27 of Set 3 | saint george\n",
      " Processing Record 28 of Set 3 | pringsewu\n",
      "City not found. Skipping...\n",
      " Processing Record 29 of Set 3 | riyadh\n",
      " Processing Record 30 of Set 3 | tautira\n",
      " Processing Record 31 of Set 3 | mahebourg\n",
      " Processing Record 32 of Set 3 | east london\n",
      " Processing Record 33 of Set 3 | cotonou\n",
      " Processing Record 34 of Set 3 | krasnoselkup\n",
      " Processing Record 35 of Set 3 | coulommiers\n",
      " Processing Record 36 of Set 3 | airai\n",
      "City not found. Skipping...\n",
      " Processing Record 37 of Set 3 | saldanha\n",
      " Processing Record 38 of Set 3 | hualmay\n",
      " Processing Record 39 of Set 3 | harper\n",
      " Processing Record 40 of Set 3 | jawhar\n",
      " Processing Record 41 of Set 3 | izyaslav\n",
      " Processing Record 42 of Set 3 | bambous virieux\n",
      " Processing Record 43 of Set 3 | sorong\n",
      " Processing Record 44 of Set 3 | jalu\n",
      " Processing Record 45 of Set 3 | sijunjung\n",
      " Processing Record 46 of Set 3 | pisco\n",
      " Processing Record 47 of Set 3 | baykit\n",
      " Processing Record 48 of Set 3 | barrow\n",
      " Processing Record 49 of Set 3 | bulaevo\n",
      " Processing Record 50 of Set 3 | beloha\n",
      " Processing Record 1 of Set 4 | bredasdorp\n",
      " Processing Record 2 of Set 4 | zhumadian\n",
      " Processing Record 3 of Set 4 | labuhan\n",
      " Processing Record 4 of Set 4 | aksay\n",
      " Processing Record 5 of Set 4 | husavik\n",
      " Processing Record 6 of Set 4 | kaitangata\n",
      " Processing Record 7 of Set 4 | carnarvon\n",
      " Processing Record 8 of Set 4 | bukan\n",
      " Processing Record 9 of Set 4 | san roque\n",
      " Processing Record 10 of Set 4 | dhidhdhoo\n",
      " Processing Record 11 of Set 4 | garowe\n",
      " Processing Record 12 of Set 4 | kenora\n",
      " Processing Record 13 of Set 4 | saint-augustin\n",
      " Processing Record 14 of Set 4 | norman wells\n",
      " Processing Record 15 of Set 4 | bryan\n",
      " Processing Record 16 of Set 4 | nipawin\n",
      " Processing Record 17 of Set 4 | domoni\n",
      " Processing Record 18 of Set 4 | el dorado\n",
      " Processing Record 19 of Set 4 | mar del plata\n",
      "City not found. Skipping...\n",
      " Processing Record 20 of Set 4 | harbour breton\n",
      " Processing Record 21 of Set 4 | saint anthony\n",
      " Processing Record 22 of Set 4 | mahanje\n",
      " Processing Record 23 of Set 4 | marrakesh\n",
      " Processing Record 24 of Set 4 | napoleon\n",
      " Processing Record 25 of Set 4 | sokoto\n",
      "City not found. Skipping...\n",
      " Processing Record 26 of Set 4 | reconquista\n",
      "City not found. Skipping...\n",
      " Processing Record 27 of Set 4 | hobart\n",
      " Processing Record 28 of Set 4 | abu dhabi\n",
      " Processing Record 29 of Set 4 | burnie\n",
      " Processing Record 30 of Set 4 | trinidad\n",
      "City not found. Skipping...\n",
      " Processing Record 31 of Set 4 | candelaria\n"
     ]
    },
    {
     "name": "stdout",
     "output_type": "stream",
     "text": [
      " Processing Record 32 of Set 4 | tateyama\n",
      " Processing Record 33 of Set 4 | leningradskiy\n",
      " Processing Record 34 of Set 4 | cordoba\n",
      "City not found. Skipping...\n",
      " Processing Record 35 of Set 4 | gigmoto\n",
      " Processing Record 36 of Set 4 | cassilandia\n",
      " Processing Record 37 of Set 4 | hofn\n",
      "City not found. Skipping...\n",
      "City not found. Skipping...\n",
      " Processing Record 38 of Set 4 | bathsheba\n",
      " Processing Record 39 of Set 4 | san quintin\n",
      " Processing Record 40 of Set 4 | aklavik\n",
      " Processing Record 41 of Set 4 | ourossogui\n",
      " Processing Record 42 of Set 4 | torres\n",
      " Processing Record 43 of Set 4 | kyritz\n",
      " Processing Record 44 of Set 4 | san patricio\n",
      " Processing Record 45 of Set 4 | naco\n",
      " Processing Record 46 of Set 4 | ambon\n",
      " Processing Record 47 of Set 4 | victoria\n",
      " Processing Record 48 of Set 4 | petropavlovsk-kamchatskiy\n",
      " Processing Record 49 of Set 4 | sola\n",
      " Processing Record 50 of Set 4 | abha\n",
      " Processing Record 1 of Set 5 | provideniya\n",
      " Processing Record 2 of Set 5 | makakilo city\n",
      " Processing Record 3 of Set 5 | kieta\n",
      " Processing Record 4 of Set 5 | baglung\n",
      " Processing Record 5 of Set 5 | kupang\n",
      " Processing Record 6 of Set 5 | buraydah\n",
      " Processing Record 7 of Set 5 | tazovskiy\n",
      " Processing Record 8 of Set 5 | bagdarin\n",
      " Processing Record 9 of Set 5 | jennings\n",
      " Processing Record 10 of Set 5 | beidao\n",
      " Processing Record 11 of Set 5 | chokurdakh\n",
      " Processing Record 12 of Set 5 | cabadiangan\n",
      " Processing Record 13 of Set 5 | coihaique\n",
      " Processing Record 14 of Set 5 | parana\n",
      " Processing Record 15 of Set 5 | north bend\n",
      " Processing Record 16 of Set 5 | kununurra\n",
      " Processing Record 17 of Set 5 | byron bay\n",
      " Processing Record 18 of Set 5 | sharan\n",
      " Processing Record 19 of Set 5 | chuy\n",
      " Processing Record 20 of Set 5 | mukhen\n",
      " Processing Record 21 of Set 5 | lamar\n",
      " Processing Record 22 of Set 5 | bukavu\n",
      " Processing Record 23 of Set 5 | bosaso\n",
      " Processing Record 24 of Set 5 | tamandare\n",
      " Processing Record 25 of Set 5 | trstena\n",
      " Processing Record 26 of Set 5 | gushikawa\n",
      " Processing Record 27 of Set 5 | cristobal obregon\n",
      " Processing Record 28 of Set 5 | karaton\n",
      " Processing Record 29 of Set 5 | olafsvik\n",
      " Processing Record 30 of Set 5 | antofagasta\n",
      " Processing Record 31 of Set 5 | xingcheng\n",
      " Processing Record 32 of Set 5 | kodarma\n",
      " Processing Record 33 of Set 5 | shira\n",
      " Processing Record 34 of Set 5 | lebu\n",
      "City not found. Skipping...\n",
      " Processing Record 35 of Set 5 | birao\n",
      " Processing Record 36 of Set 5 | kenai\n",
      " Processing Record 37 of Set 5 | ponta do sol\n",
      " Processing Record 38 of Set 5 | senneterre\n",
      " Processing Record 39 of Set 5 | hailar\n",
      " Processing Record 40 of Set 5 | izumo\n",
      " Processing Record 41 of Set 5 | brae\n",
      " Processing Record 42 of Set 5 | yumen\n",
      " Processing Record 43 of Set 5 | ucluelet\n",
      " Processing Record 44 of Set 5 | washington\n",
      " Processing Record 45 of Set 5 | ayolas\n",
      " Processing Record 46 of Set 5 | nehe\n",
      "City not found. Skipping...\n",
      " Processing Record 47 of Set 5 | tilichiki\n",
      " Processing Record 48 of Set 5 | sitka\n",
      " Processing Record 49 of Set 5 | vysokogornyy\n",
      " Processing Record 50 of Set 5 | bella union\n",
      " Processing Record 1 of Set 6 | ondjiva\n",
      " Processing Record 2 of Set 6 | iqaluit\n",
      " Processing Record 3 of Set 6 | jining\n",
      " Processing Record 4 of Set 6 | beringovskiy\n",
      " Processing Record 5 of Set 6 | plettenberg bay\n",
      " Processing Record 6 of Set 6 | laredo\n",
      " Processing Record 7 of Set 6 | chemainus\n",
      " Processing Record 8 of Set 6 | sotouboua\n",
      " Processing Record 9 of Set 6 | bethel\n",
      " Processing Record 10 of Set 6 | hovd\n",
      " Processing Record 11 of Set 6 | longyearbyen\n",
      " Processing Record 12 of Set 6 | hachinohe\n",
      " Processing Record 13 of Set 6 | kayes\n",
      " Processing Record 14 of Set 6 | utena\n",
      " Processing Record 15 of Set 6 | oxelosund\n",
      " Processing Record 16 of Set 6 | laguna\n",
      " Processing Record 17 of Set 6 | mildura\n",
      " Processing Record 18 of Set 6 | broken hill\n",
      " Processing Record 19 of Set 6 | raudeberg\n",
      " Processing Record 20 of Set 6 | port elizabeth\n",
      " Processing Record 21 of Set 6 | namtsy\n",
      " Processing Record 22 of Set 6 | keti bandar\n",
      " Processing Record 23 of Set 6 | vostok\n",
      "City not found. Skipping...\n",
      " Processing Record 24 of Set 6 | sukpak\n",
      " Processing Record 25 of Set 6 | mount isa\n",
      " Processing Record 26 of Set 6 | lagunas\n",
      " Processing Record 27 of Set 6 | baza\n",
      " Processing Record 28 of Set 6 | pevek\n",
      " Processing Record 29 of Set 6 | alexandria\n",
      " Processing Record 30 of Set 6 | ancud\n",
      " Processing Record 31 of Set 6 | kathu\n",
      " Processing Record 32 of Set 6 | himensulan\n",
      " Processing Record 33 of Set 6 | bubaque\n",
      " Processing Record 34 of Set 6 | conakry\n",
      "City not found. Skipping...\n",
      " Processing Record 35 of Set 6 | kozhva\n",
      " Processing Record 36 of Set 6 | manaus\n",
      " Processing Record 37 of Set 6 | isangel\n",
      " Processing Record 38 of Set 6 | takoradi\n",
      " Processing Record 39 of Set 6 | san carlos de bariloche\n",
      " Processing Record 40 of Set 6 | salinopolis\n",
      " Processing Record 41 of Set 6 | baoro\n",
      " Processing Record 42 of Set 6 | escarcega\n",
      " Processing Record 43 of Set 6 | letpadan\n",
      " Processing Record 44 of Set 6 | sorland\n",
      " Processing Record 45 of Set 6 | port moresby\n",
      " Processing Record 46 of Set 6 | zhigansk\n",
      " Processing Record 47 of Set 6 | conceicao do araguaia\n",
      " Processing Record 48 of Set 6 | charters towers\n",
      " Processing Record 49 of Set 6 | kon tum\n",
      " Processing Record 50 of Set 6 | khipro\n",
      " Processing Record 1 of Set 7 | talcahuano\n",
      " Processing Record 2 of Set 7 | hervey bay\n",
      " Processing Record 3 of Set 7 | noyabrsk\n",
      " Processing Record 4 of Set 7 | berck\n",
      " Processing Record 5 of Set 7 | lanquin\n",
      " Processing Record 6 of Set 7 | urdoma\n",
      " Processing Record 7 of Set 7 | serebryanyy bor\n",
      "City not found. Skipping...\n",
      " Processing Record 8 of Set 7 | fortuna\n",
      " Processing Record 9 of Set 7 | tena\n",
      " Processing Record 10 of Set 7 | hutchinson\n",
      " Processing Record 11 of Set 7 | magistralnyy\n",
      "City not found. Skipping...\n",
      " Processing Record 12 of Set 7 | palmer\n",
      " Processing Record 13 of Set 7 | bouna\n",
      " Processing Record 14 of Set 7 | katangli\n",
      " Processing Record 15 of Set 7 | salo\n",
      " Processing Record 16 of Set 7 | ketchikan\n",
      " Processing Record 17 of Set 7 | sunrise manor\n",
      " Processing Record 18 of Set 7 | adrar\n",
      " Processing Record 19 of Set 7 | egvekinot\n",
      " Processing Record 20 of Set 7 | dutse\n",
      " Processing Record 21 of Set 7 | basqal\n",
      " Processing Record 22 of Set 7 | bontang\n",
      " Processing Record 23 of Set 7 | nanortalik\n",
      " Processing Record 24 of Set 7 | pyapon\n",
      " Processing Record 25 of Set 7 | ust-kuyga\n",
      "City not found. Skipping...\n",
      " Processing Record 26 of Set 7 | jibuti\n",
      "City not found. Skipping...\n",
      " Processing Record 27 of Set 7 | marienburg\n",
      " Processing Record 28 of Set 7 | lewistown\n",
      "City not found. Skipping...\n",
      " Processing Record 29 of Set 7 | sur\n",
      " Processing Record 30 of Set 7 | manhuacu\n",
      " Processing Record 31 of Set 7 | ulaanbaatar\n",
      " Processing Record 32 of Set 7 | ulladulla\n",
      "City not found. Skipping...\n",
      " Processing Record 33 of Set 7 | roswell\n",
      " Processing Record 34 of Set 7 | mehamn\n",
      " Processing Record 35 of Set 7 | castro\n",
      " Processing Record 36 of Set 7 | yeppoon\n",
      " Processing Record 37 of Set 7 | bembereke\n",
      "City not found. Skipping...\n",
      " Processing Record 38 of Set 7 | fukue\n",
      " Processing Record 39 of Set 7 | itoman\n",
      " Processing Record 40 of Set 7 | chernyshevskiy\n",
      " Processing Record 41 of Set 7 | ladario\n",
      " Processing Record 42 of Set 7 | linguere\n",
      " Processing Record 43 of Set 7 | la arena\n",
      " Processing Record 44 of Set 7 | codrington\n",
      " Processing Record 45 of Set 7 | kamenka\n",
      " Processing Record 46 of Set 7 | sfantu gheorghe\n",
      " Processing Record 47 of Set 7 | morgan city\n",
      " Processing Record 48 of Set 7 | georgetown\n",
      " Processing Record 49 of Set 7 | rio grande\n",
      " Processing Record 50 of Set 7 | naze\n",
      " Processing Record 1 of Set 8 | saskylakh\n",
      " Processing Record 2 of Set 8 | padang\n",
      " Processing Record 3 of Set 8 | zverinogolovskoye\n",
      "City not found. Skipping...\n",
      " Processing Record 4 of Set 8 | nara\n",
      " Processing Record 5 of Set 8 | sibolga\n",
      " Processing Record 6 of Set 8 | sungairaya\n",
      " Processing Record 7 of Set 8 | adre\n",
      " Processing Record 8 of Set 8 | caxito\n",
      " Processing Record 9 of Set 8 | forres\n",
      " Processing Record 10 of Set 8 | kualakapuas\n",
      " Processing Record 11 of Set 8 | guerrero negro\n",
      " Processing Record 12 of Set 8 | lompoc\n",
      " Processing Record 13 of Set 8 | canatlan\n",
      " Processing Record 14 of Set 8 | santa isabel do rio negro\n",
      " Processing Record 15 of Set 8 | visakhapatnam\n",
      " Processing Record 16 of Set 8 | kabo\n",
      "City not found. Skipping...\n"
     ]
    },
    {
     "name": "stdout",
     "output_type": "stream",
     "text": [
      " Processing Record 17 of Set 8 | mayahi\n",
      " Processing Record 18 of Set 8 | port-gentil\n",
      "City not found. Skipping...\n",
      " Processing Record 19 of Set 8 | imeni poliny osipenko\n",
      " Processing Record 20 of Set 8 | show low\n",
      " Processing Record 21 of Set 8 | ciudad guayana\n",
      " Processing Record 22 of Set 8 | constitucion\n",
      " Processing Record 23 of Set 8 | valparaiso\n",
      " Processing Record 24 of Set 8 | mormugao\n",
      " Processing Record 25 of Set 8 | lavrentiya\n",
      " Processing Record 26 of Set 8 | chabahar\n",
      " Processing Record 27 of Set 8 | tiksi\n",
      " Processing Record 28 of Set 8 | xinan\n",
      " Processing Record 29 of Set 8 | hasaki\n",
      "City not found. Skipping...\n",
      " Processing Record 30 of Set 8 | goundam\n",
      " Processing Record 31 of Set 8 | mapiripan\n",
      " Processing Record 32 of Set 8 | lesnica\n",
      "City not found. Skipping...\n",
      " Processing Record 33 of Set 8 | clinton\n",
      " Processing Record 34 of Set 8 | najran\n",
      " Processing Record 35 of Set 8 | belyy yar\n",
      " Processing Record 36 of Set 8 | bielefeld\n",
      "City not found. Skipping...\n",
      " Processing Record 37 of Set 8 | uruzgan\n",
      " Processing Record 38 of Set 8 | bail hongal\n",
      " Processing Record 39 of Set 8 | kalmunai\n",
      " Processing Record 40 of Set 8 | tavrichanka\n",
      " Processing Record 41 of Set 8 | eregli\n",
      "City not found. Skipping...\n",
      " Processing Record 42 of Set 8 | alice springs\n",
      " Processing Record 43 of Set 8 | west wendover\n",
      " Processing Record 44 of Set 8 | manokwari\n",
      " Processing Record 45 of Set 8 | acapulco\n",
      " Processing Record 46 of Set 8 | morant bay\n",
      "City not found. Skipping...\n",
      " Processing Record 47 of Set 8 | apatity\n",
      " Processing Record 48 of Set 8 | asau\n",
      " Processing Record 49 of Set 8 | puerto del rosario\n",
      " Processing Record 50 of Set 8 | port lincoln\n",
      "City not found. Skipping...\n",
      "City not found. Skipping...\n",
      " Processing Record 1 of Set 9 | derzhavinsk\n",
      " Processing Record 2 of Set 9 | zhangye\n",
      " Processing Record 3 of Set 9 | port hardy\n",
      " Processing Record 4 of Set 9 | katsuura\n",
      " Processing Record 5 of Set 9 | pimentel\n",
      " Processing Record 6 of Set 9 | sovetskiy\n",
      " Processing Record 7 of Set 9 | asosa\n",
      " Processing Record 8 of Set 9 | skowhegan\n",
      " Processing Record 9 of Set 9 | kibakwe\n",
      " Processing Record 10 of Set 9 | chapais\n",
      " Processing Record 11 of Set 9 | bonthe\n",
      " Processing Record 12 of Set 9 | hambantota\n",
      " Processing Record 13 of Set 9 | faanui\n",
      " Processing Record 14 of Set 9 | victor harbor\n",
      " Processing Record 15 of Set 9 | gardendale\n",
      " Processing Record 16 of Set 9 | bulungu\n",
      " Processing Record 17 of Set 9 | nohar\n",
      " Processing Record 18 of Set 9 | valer\n",
      " Processing Record 19 of Set 9 | tual\n",
      " Processing Record 20 of Set 9 | gediz\n",
      " Processing Record 21 of Set 9 | aras\n",
      " Processing Record 22 of Set 9 | ponta delgada\n",
      " Processing Record 23 of Set 9 | havelock\n",
      " Processing Record 24 of Set 9 | sao filipe\n",
      " Processing Record 25 of Set 9 | prieska\n",
      " Processing Record 26 of Set 9 | toora-khem\n",
      " Processing Record 27 of Set 9 | palmas de monte alto\n",
      " Processing Record 28 of Set 9 | dagana\n",
      " Processing Record 29 of Set 9 | merritt island\n",
      " Processing Record 30 of Set 9 | ejura\n",
      " Processing Record 31 of Set 9 | arauca\n",
      " Processing Record 32 of Set 9 | kruisfontein\n",
      " Processing Record 33 of Set 9 | broome\n",
      " Processing Record 34 of Set 9 | sahuaripa\n",
      " Processing Record 35 of Set 9 | aden\n",
      "City not found. Skipping...\n",
      " Processing Record 36 of Set 9 | miyako\n",
      " Processing Record 37 of Set 9 | longkou\n",
      " Processing Record 38 of Set 9 | luoyang\n",
      " Processing Record 39 of Set 9 | lisakovsk\n",
      " Processing Record 40 of Set 9 | barra\n",
      " Processing Record 41 of Set 9 | ko samui\n",
      " Processing Record 42 of Set 9 | talaya\n",
      " Processing Record 43 of Set 9 | nemuro\n",
      " Processing Record 44 of Set 9 | baltasi\n",
      " Processing Record 45 of Set 9 | raisio\n",
      " Processing Record 46 of Set 9 | bundaberg\n",
      " Processing Record 47 of Set 9 | saint-pierre\n",
      " Processing Record 48 of Set 9 | stromness\n",
      " Processing Record 49 of Set 9 | taltal\n",
      " Processing Record 50 of Set 9 | kinsale\n",
      " Processing Record 1 of Set 10 | rawson\n",
      " Processing Record 2 of Set 10 | narsaq\n",
      " Processing Record 3 of Set 10 | brazzaville\n",
      " Processing Record 4 of Set 10 | neiafu\n",
      "City not found. Skipping...\n",
      " Processing Record 5 of Set 10 | kloulklubed\n",
      " Processing Record 6 of Set 10 | bongandanga\n",
      " Processing Record 7 of Set 10 | chavakkad\n",
      "City not found. Skipping...\n",
      " Processing Record 8 of Set 10 | terney\n",
      " Processing Record 9 of Set 10 | prattville\n",
      " Processing Record 10 of Set 10 | begampur\n",
      " Processing Record 11 of Set 10 | alakurtti\n",
      "City not found. Skipping...\n",
      " Processing Record 12 of Set 10 | thakurgaon\n",
      "City not found. Skipping...\n",
      " Processing Record 13 of Set 10 | kasongo-lunda\n",
      " Processing Record 14 of Set 10 | panguna\n",
      " Processing Record 15 of Set 10 | tiarei\n",
      " Processing Record 16 of Set 10 | rochegda\n",
      " Processing Record 17 of Set 10 | los llanos de aridane\n",
      " Processing Record 18 of Set 10 | praia\n",
      " Processing Record 19 of Set 10 | murgab\n",
      " Processing Record 20 of Set 10 | corinto\n",
      " Processing Record 21 of Set 10 | pangnirtung\n",
      " Processing Record 22 of Set 10 | chaplynka\n",
      " Processing Record 23 of Set 10 | vila velha\n",
      " Processing Record 24 of Set 10 | sabha\n",
      " Processing Record 25 of Set 10 | waw\n",
      " Processing Record 26 of Set 10 | balingen\n",
      " Processing Record 27 of Set 10 | imbituba\n",
      "City not found. Skipping...\n",
      " Processing Record 28 of Set 10 | riohacha\n",
      " Processing Record 29 of Set 10 | save\n",
      " Processing Record 30 of Set 10 | puerto carreno\n",
      " Processing Record 31 of Set 10 | marsh harbour\n",
      "City not found. Skipping...\n",
      " Processing Record 32 of Set 10 | primorskiy\n",
      " Processing Record 33 of Set 10 | marsaxlokk\n",
      " Processing Record 34 of Set 10 | tuatapere\n",
      " Processing Record 35 of Set 10 | bagotville\n",
      " Processing Record 36 of Set 10 | jumla\n",
      " Processing Record 37 of Set 10 | lata\n",
      " Processing Record 38 of Set 10 | shubarkuduk\n",
      " Processing Record 39 of Set 10 | sabang\n",
      " Processing Record 40 of Set 10 | maceio\n",
      " Processing Record 41 of Set 10 | korla\n",
      " Processing Record 42 of Set 10 | mbanza-ngungu\n",
      " Processing Record 43 of Set 10 | lagos\n",
      " Processing Record 44 of Set 10 | madimba\n",
      " Processing Record 45 of Set 10 | iraquara\n",
      " Processing Record 46 of Set 10 | kristiinankaupunki\n",
      " Processing Record 47 of Set 10 | linxia\n",
      " Processing Record 48 of Set 10 | poum\n",
      " Processing Record 49 of Set 10 | oistins\n",
      " Processing Record 50 of Set 10 | vendas novas\n",
      " Processing Record 1 of Set 11 | dingle\n",
      " Processing Record 2 of Set 11 | gravdal\n",
      " Processing Record 3 of Set 11 | namibe\n",
      " Processing Record 4 of Set 11 | lashio\n",
      " Processing Record 5 of Set 11 | chino valley\n",
      " Processing Record 6 of Set 11 | muzhi\n",
      " Processing Record 7 of Set 11 | puri\n",
      "City not found. Skipping...\n",
      " Processing Record 8 of Set 11 | halifax\n",
      " Processing Record 9 of Set 11 | manbij\n",
      "City not found. Skipping...\n",
      " Processing Record 10 of Set 11 | marsa matruh\n",
      " Processing Record 11 of Set 11 | gazojak\n",
      " Processing Record 12 of Set 11 | umea\n",
      " Processing Record 13 of Set 11 | bambanglipuro\n",
      " Processing Record 14 of Set 11 | mecca\n",
      " Processing Record 15 of Set 11 | mbandaka\n",
      "City not found. Skipping...\n",
      " Processing Record 16 of Set 11 | alofi\n",
      " Processing Record 17 of Set 11 | deputatskiy\n",
      " Processing Record 18 of Set 11 | tutoia\n",
      " Processing Record 19 of Set 11 | kuytun\n",
      " Processing Record 20 of Set 11 | finschhafen\n",
      " Processing Record 21 of Set 11 | waddan\n",
      " Processing Record 22 of Set 11 | uvira\n",
      " Processing Record 23 of Set 11 | igarka\n",
      " Processing Record 24 of Set 11 | mogadishu\n",
      " Processing Record 25 of Set 11 | banapur\n",
      " Processing Record 26 of Set 11 | mankachar\n",
      " Processing Record 27 of Set 11 | puerto madryn\n",
      " Processing Record 28 of Set 11 | cherskiy\n",
      "City not found. Skipping...\n",
      " Processing Record 29 of Set 11 | sal rei\n",
      " Processing Record 30 of Set 11 | shumskiy\n",
      " Processing Record 31 of Set 11 | guarapari\n",
      " Processing Record 32 of Set 11 | lorengau\n",
      " Processing Record 33 of Set 11 | praia da vitoria\n",
      " Processing Record 34 of Set 11 | tuy hoa\n",
      " Processing Record 35 of Set 11 | kimberley\n",
      " Processing Record 36 of Set 11 | zabaykalsk\n",
      "City not found. Skipping...\n",
      " Processing Record 37 of Set 11 | tocopilla\n",
      " Processing Record 38 of Set 11 | aykhal\n",
      " Processing Record 39 of Set 11 | mto wa mbu\n",
      "City not found. Skipping...\n",
      " Processing Record 40 of Set 11 | erenhot\n",
      " Processing Record 41 of Set 11 | foam lake\n",
      " Processing Record 42 of Set 11 | grindavik\n",
      " Processing Record 43 of Set 11 | tiznit\n",
      " Processing Record 44 of Set 11 | cozumel\n",
      " Processing Record 45 of Set 11 | sambava\n"
     ]
    },
    {
     "name": "stdout",
     "output_type": "stream",
     "text": [
      " Processing Record 46 of Set 11 | bartica\n",
      " Processing Record 47 of Set 11 | anchorage\n",
      " Processing Record 48 of Set 11 | bilibino\n",
      " Processing Record 49 of Set 11 | dunedin\n",
      " Processing Record 50 of Set 11 | kontagora\n",
      " Processing Record 1 of Set 12 | sept-iles\n",
      " Processing Record 2 of Set 12 | batesville\n",
      " Processing Record 3 of Set 12 | ekhabi\n",
      " Processing Record 4 of Set 12 | balaipungut\n",
      " Processing Record 5 of Set 12 | auki\n",
      "City not found. Skipping...\n",
      " Processing Record 6 of Set 12 | guanhaes\n",
      " Processing Record 7 of Set 12 | boyolangu\n",
      " Processing Record 8 of Set 12 | whitehorse\n",
      " Processing Record 9 of Set 12 | lebrija\n",
      " Processing Record 10 of Set 12 | atbasar\n",
      " Processing Record 11 of Set 12 | kismayo\n",
      " Processing Record 12 of Set 12 | maarianhamina\n",
      " Processing Record 13 of Set 12 | inhambane\n",
      " Processing Record 14 of Set 12 | muscat\n",
      " Processing Record 15 of Set 12 | kedrovyy\n",
      " Processing Record 16 of Set 12 | barcelos\n",
      " Processing Record 17 of Set 12 | souillac\n",
      " Processing Record 18 of Set 12 | juneau\n",
      " Processing Record 19 of Set 12 | kidodi\n",
      "City not found. Skipping...\n",
      " Processing Record 20 of Set 12 | nizhniy kuranakh\n",
      " Processing Record 21 of Set 12 | visavadar\n",
      " Processing Record 22 of Set 12 | shetpe\n",
      " Processing Record 23 of Set 12 | ossora\n",
      " Processing Record 24 of Set 12 | campoverde\n",
      " Processing Record 25 of Set 12 | booue\n",
      " Processing Record 26 of Set 12 | mareeba\n",
      " Processing Record 27 of Set 12 | vryburg\n",
      " Processing Record 28 of Set 12 | asfi\n",
      " Processing Record 29 of Set 12 | monroe\n",
      " Processing Record 30 of Set 12 | vynohradove\n",
      " Processing Record 31 of Set 12 | bandarbeyla\n",
      "-----------------------------\n",
      "Data Retrieval Complete  \n",
      "-----------------------------\n"
     ]
    }
   ],
   "source": [
    "url = \"http://api.openweathermap.org/data/2.5/weather?\"\n",
    "query_url = f\"{url}appid={weather_api_key}&units=imperial&q=\"\n",
    "\n",
    "count = 0\n",
    "sets = 1\n",
    "\n",
    "found_cities = []\n",
    "latitudes = []\n",
    "longitudes = []\n",
    "temp_max = []\n",
    "humidity=[]\n",
    "clouds =[]\n",
    "wind_speeds=[]\n",
    "country= []\n",
    "dates = [] \n",
    "\n",
    "print(\"Beginning Data Retrieval \")\n",
    "print(\"-----------------------------\")\n",
    "for city in cities:\n",
    "    try:\n",
    "        response = requests.get(query_url+ city).json()\n",
    "        latitudes.append(response['coord']['lat'])\n",
    "        longitudes.append(response['coord']['lon'])\n",
    "        temp_max.append(response['main']['temp_max'])\n",
    "        humidity.append(response['main']['humidity'])\n",
    "        clouds.append(response['clouds']['all'])\n",
    "        wind_speeds.append(response['wind']['speed'])\n",
    "        country.append(response['sys']['country'])\n",
    "        dates.append(response['dt'])\n",
    "        found_cities.append(city)\n",
    "        if count >49:\n",
    "            count = 1\n",
    "            sets +=1\n",
    "            \n",
    "        else:\n",
    "            count +=1\n",
    "        print(f\" Processing Record {count} of Set {sets} | {city}\")\n",
    "    except:\n",
    "        print(f\"City not found. Skipping...\")\n",
    "\n",
    "print(\"-----------------------------\")\n",
    "print(\"Data Retrieval Complete  \")\n",
    "print(\"-----------------------------\")"
   ]
  },
  {
   "cell_type": "markdown",
   "metadata": {},
   "source": [
    "### Convert Raw Data to DataFrame\n",
    "* Export the city data into a .csv.\n",
    "* Display the DataFrame"
   ]
  },
  {
   "cell_type": "code",
   "execution_count": 148,
   "metadata": {},
   "outputs": [],
   "source": [
    "city_data = pd.DataFrame({\"City\": found_cities, \"Lat\": latitudes,\\\n",
    "                          \"Lng\": longitudes, \"Max Temp\":temp_max, \"Humidity\":humidity, \"Cloudiness\":clouds,\\\n",
    "                          \"Wind Speed\":wind_speeds, \"Country\":country, \"Date\":dates})\n",
    "city_data.to_csv(output_data_file, index=False, header=True)"
   ]
  },
  {
   "cell_type": "code",
   "execution_count": 149,
   "metadata": {},
   "outputs": [
    {
     "data": {
      "text/html": [
       "<div>\n",
       "<style scoped>\n",
       "    .dataframe tbody tr th:only-of-type {\n",
       "        vertical-align: middle;\n",
       "    }\n",
       "\n",
       "    .dataframe tbody tr th {\n",
       "        vertical-align: top;\n",
       "    }\n",
       "\n",
       "    .dataframe thead th {\n",
       "        text-align: right;\n",
       "    }\n",
       "</style>\n",
       "<table border=\"1\" class=\"dataframe\">\n",
       "  <thead>\n",
       "    <tr style=\"text-align: right;\">\n",
       "      <th></th>\n",
       "      <th>City</th>\n",
       "      <th>Lat</th>\n",
       "      <th>Lng</th>\n",
       "      <th>Max Temp</th>\n",
       "      <th>Humidity</th>\n",
       "      <th>Cloudiness</th>\n",
       "      <th>Wind Speed</th>\n",
       "      <th>Country</th>\n",
       "      <th>Date</th>\n",
       "    </tr>\n",
       "  </thead>\n",
       "  <tbody>\n",
       "    <tr>\n",
       "      <th>0</th>\n",
       "      <td>dikson</td>\n",
       "      <td>73.5069</td>\n",
       "      <td>80.5464</td>\n",
       "      <td>40.33</td>\n",
       "      <td>92</td>\n",
       "      <td>100</td>\n",
       "      <td>4.34</td>\n",
       "      <td>RU</td>\n",
       "      <td>1629672590</td>\n",
       "    </tr>\n",
       "    <tr>\n",
       "      <th>1</th>\n",
       "      <td>scarborough</td>\n",
       "      <td>54.2797</td>\n",
       "      <td>-0.4044</td>\n",
       "      <td>60.62</td>\n",
       "      <td>92</td>\n",
       "      <td>85</td>\n",
       "      <td>1.01</td>\n",
       "      <td>GB</td>\n",
       "      <td>1629672482</td>\n",
       "    </tr>\n",
       "    <tr>\n",
       "      <th>2</th>\n",
       "      <td>richards bay</td>\n",
       "      <td>-28.7830</td>\n",
       "      <td>32.0377</td>\n",
       "      <td>62.96</td>\n",
       "      <td>75</td>\n",
       "      <td>100</td>\n",
       "      <td>2.17</td>\n",
       "      <td>ZA</td>\n",
       "      <td>1629672590</td>\n",
       "    </tr>\n",
       "    <tr>\n",
       "      <th>3</th>\n",
       "      <td>ormara</td>\n",
       "      <td>25.2088</td>\n",
       "      <td>64.6357</td>\n",
       "      <td>78.39</td>\n",
       "      <td>89</td>\n",
       "      <td>46</td>\n",
       "      <td>11.10</td>\n",
       "      <td>PK</td>\n",
       "      <td>1629672590</td>\n",
       "    </tr>\n",
       "    <tr>\n",
       "      <th>4</th>\n",
       "      <td>punta arenas</td>\n",
       "      <td>-53.1500</td>\n",
       "      <td>-70.9167</td>\n",
       "      <td>37.51</td>\n",
       "      <td>93</td>\n",
       "      <td>90</td>\n",
       "      <td>10.36</td>\n",
       "      <td>CL</td>\n",
       "      <td>1629672591</td>\n",
       "    </tr>\n",
       "  </tbody>\n",
       "</table>\n",
       "</div>"
      ],
      "text/plain": [
       "           City      Lat      Lng  Max Temp  Humidity  Cloudiness  Wind Speed  \\\n",
       "0        dikson  73.5069  80.5464     40.33        92         100        4.34   \n",
       "1   scarborough  54.2797  -0.4044     60.62        92          85        1.01   \n",
       "2  richards bay -28.7830  32.0377     62.96        75         100        2.17   \n",
       "3        ormara  25.2088  64.6357     78.39        89          46       11.10   \n",
       "4  punta arenas -53.1500 -70.9167     37.51        93          90       10.36   \n",
       "\n",
       "  Country        Date  \n",
       "0      RU  1629672590  \n",
       "1      GB  1629672482  \n",
       "2      ZA  1629672590  \n",
       "3      PK  1629672590  \n",
       "4      CL  1629672591  "
      ]
     },
     "execution_count": 149,
     "metadata": {},
     "output_type": "execute_result"
    }
   ],
   "source": [
    "city_data.head()"
   ]
  },
  {
   "cell_type": "markdown",
   "metadata": {},
   "source": [
    "## Inspect the data and remove the cities where the humidity > 100%.\n",
    "----\n",
    "Skip this step if there are no cities that have humidity > 100%. "
   ]
  },
  {
   "cell_type": "code",
   "execution_count": 121,
   "metadata": {},
   "outputs": [
    {
     "name": "stdout",
     "output_type": "stream",
     "text": [
      "Empty DataFrame\n",
      "Columns: [City, Lat, Lng, Max Temp, Humidity, Cloudiness, Wind Speed, Country, Date]\n",
      "Index: []\n"
     ]
    }
   ],
   "source": [
    "more_100_humidity = city_data.loc[city_data['Humidity']>100]\n",
    "print(more_100_humidity)"
   ]
  },
  {
   "cell_type": "code",
   "execution_count": 22,
   "metadata": {},
   "outputs": [],
   "source": [
    "#  Get the indices of cities that have humidity over 100%.\n"
   ]
  },
  {
   "cell_type": "code",
   "execution_count": 23,
   "metadata": {},
   "outputs": [],
   "source": [
    "# Make a new DataFrame equal to the city data to drop all humidity outliers by index.\n",
    "# Passing \"inplace=False\" will make a copy of the city_data DataFrame, which we call \"clean_city_data\".\n"
   ]
  },
  {
   "cell_type": "code",
   "execution_count": null,
   "metadata": {},
   "outputs": [],
   "source": [
    "\n"
   ]
  },
  {
   "cell_type": "markdown",
   "metadata": {},
   "source": [
    "## Plotting the Data\n",
    "* Use proper labeling of the plots using plot titles (including date of analysis) and axes labels.\n",
    "* Save the plotted figures as .pngs."
   ]
  },
  {
   "cell_type": "markdown",
   "metadata": {},
   "source": [
    "## Latitude vs. Temperature Plot"
   ]
  },
  {
   "cell_type": "code",
   "execution_count": 131,
   "metadata": {
    "scrolled": true
   },
   "outputs": [
    {
     "data": {
      "image/png": "[encoded data removed]",
      "text/plain": [
       "<Figure size 432x288 with 1 Axes>"
      ]
     },
     "metadata": {
      "needs_background": "light"
     },
     "output_type": "display_data"
    }
   ],
   "source": [
    "plt.scatter(city_data['Lat'], city_data['Max Temp'])\n",
    "plt.xlabel('Latitude')\n",
    "plt.ylabel('Maximum Temperature (F)')\n",
    "plt.title('City Latitude vs. Max Temperature (08/22/2021)')\n",
    "plt.savefig('output_data/fig1.png')\n",
    "plt.show()"
   ]
  },
  {
   "cell_type": "markdown",
   "metadata": {},
   "source": [
    "## Latitude vs. Humidity Plot"
   ]
  },
  {
   "cell_type": "code",
   "execution_count": 132,
   "metadata": {},
   "outputs": [
    {
     "data": {
      "image/png": "[encoded data removed]",
      "text/plain": [
       "<Figure size 432x288 with 1 Axes>"
      ]
     },
     "metadata": {
      "needs_background": "light"
     },
     "output_type": "display_data"
    }
   ],
   "source": [
    "plt.scatter(city_data['Lat'], city_data['Humidity'])\n",
    "plt.xlabel('Latitude')\n",
    "plt.ylabel('Humidity (%)')\n",
    "plt.title('City Latitude vs. Humidity (08/22/2021)')\n",
    "plt.yticks([ 0, 20,40,60,80,100])\n",
    "plt.savefig('output_data/fig2.png')\n",
    "plt.show()"
   ]
  },
  {
   "cell_type": "markdown",
   "metadata": {},
   "source": [
    "## Latitude vs. Cloudiness Plot"
   ]
  },
  {
   "cell_type": "code",
   "execution_count": 133,
   "metadata": {},
   "outputs": [
    {
     "data": {
      "image/png": "[encoded data removed]",
      "text/plain": [
       "<Figure size 432x288 with 1 Axes>"
      ]
     },
     "metadata": {
      "needs_background": "light"
     },
     "output_type": "display_data"
    }
   ],
   "source": [
    "\n",
    "plt.scatter(city_data['Lat'], city_data['Cloudiness'])\n",
    "plt.xlabel('Latitude')\n",
    "plt.ylabel('Cloudiness (%)')\n",
    "plt.title(\"City Latitude vs. Cloudiness (08/22/2021)\")\n",
    "plt.savefig('output_data/fig3.png')\n",
    "plt.show()"
   ]
  },
  {
   "cell_type": "markdown",
   "metadata": {},
   "source": [
    "## Latitude vs. Wind Speed Plot"
   ]
  },
  {
   "cell_type": "code",
   "execution_count": 134,
   "metadata": {},
   "outputs": [
    {
     "data": {
      "image/png": "[encoded data removed]",
      "text/plain": [
       "<Figure size 432x288 with 1 Axes>"
      ]
     },
     "metadata": {
      "needs_background": "light"
     },
     "output_type": "display_data"
    }
   ],
   "source": [
    "plt.scatter(city_data['Lat'], city_data['Wind Speed'])\n",
    "plt.xlabel('Latitude')\n",
    "plt.ylabel('Wind Speed (mph)')\n",
    "plt.title(\"City Latitude vs. Wind Speed (08/22/2021)\")\n",
    "plt.savefig('output_data/fig4.png')\n",
    "plt.show()"
   ]
  },
  {
   "cell_type": "markdown",
   "metadata": {},
   "source": [
    "## Linear Regression"
   ]
  },
  {
   "cell_type": "code",
   "execution_count": 135,
   "metadata": {},
   "outputs": [
    {
     "name": "stdout",
     "output_type": "stream",
     "text": [
      "            City      Lat       Lng  Max Temp  Humidity  Cloudiness  \\\n",
      "0         dikson  73.5069   80.5464     40.33        92         100   \n",
      "1    scarborough  54.2797   -0.4044     60.62        92          85   \n",
      "3         ormara  25.2088   64.6357     78.39        89          46   \n",
      "5       tasiilaq  65.6145  -37.6368     44.76        94          82   \n",
      "8       khatanga  71.9667  102.5000     46.67        85         100   \n",
      "..           ...      ...       ...       ...       ...         ...   \n",
      "572       ossora  59.2353  163.0719     59.65        81          73   \n",
      "577         asfi  32.2994   -9.2372     69.17        90           0   \n",
      "578       monroe  43.1501  -77.6831     82.40        74          75   \n",
      "579  vynohradove  46.3696   32.9398     67.64        57          34   \n",
      "580  bandarbeyla   9.4942   50.8122     77.54        79          94   \n",
      "\n",
      "     Wind Speed Country        Date  \n",
      "0          4.34      RU  1629672590  \n",
      "1          1.01      GB  1629672482  \n",
      "3         11.10      PK  1629672590  \n",
      "5          3.04      GL  1629672591  \n",
      "8         10.63      RU  1629672592  \n",
      "..          ...     ...         ...  \n",
      "572        8.57      RU  1629672755  \n",
      "577       12.55      MA  1629672756  \n",
      "578       10.36      US  1629672577  \n",
      "579        6.91      UA  1629672757  \n",
      "580       16.24      SO  1629672757  \n",
      "\n",
      "[406 rows x 9 columns]\n"
     ]
    }
   ],
   "source": [
    "#make northern and southern hemisphere variables\n",
    "north= city_data['Lat']>0\n",
    "south = city_data['Lat']<0\n",
    "north_hemisphere=city_data[north]\n",
    "south_hemisphere=city_data[south]\n",
    "print(north_hemisphere)"
   ]
  },
  {
   "cell_type": "markdown",
   "metadata": {},
   "source": [
    "####  Northern Hemisphere - Max Temp vs. Latitude Linear Regression"
   ]
  },
  {
   "cell_type": "code",
   "execution_count": 136,
   "metadata": {},
   "outputs": [
    {
     "data": {
      "image/png": "[encoded data removed]",
      "text/plain": [
       "<Figure size 432x288 with 1 Axes>"
      ]
     },
     "metadata": {
      "needs_background": "light"
     },
     "output_type": "display_data"
    },
    {
     "name": "stdout",
     "output_type": "stream",
     "text": [
      "The r-value is : 0.5156245035261312\n"
     ]
    }
   ],
   "source": [
    "x_values_north = north_hemisphere['Lat']\n",
    "y_values_north_temp = north_hemisphere['Max Temp']\n",
    "\n",
    "(slope, intercept, rvalue, pvalue, stderr) = linregress(x_values_north, y_values_north_temp)\n",
    "regress_values = x_values_north *slope +intercept\n",
    "line_eq = \"y = \" + str(round(slope,2)) + \"x + \" + str(round(intercept,2))\n",
    "plt.scatter(x_values_north, y_values_north_temp)\n",
    "plt.plot(x_values_north, regress_values, \"r-\")\n",
    "plt.xlabel('Latitude')\n",
    "plt.ylabel('Max Temp (F)')\n",
    "plt.annotate(line_eq, (0,35), fontsize=15, color = 'Red')\n",
    "plt.show()\n",
    "print(f\"The r-value is : {rvalue**2}\")"
   ]
  },
  {
   "cell_type": "markdown",
   "metadata": {},
   "source": [
    "####  Southern Hemisphere - Max Temp vs. Latitude Linear Regression"
   ]
  },
  {
   "cell_type": "code",
   "execution_count": 147,
   "metadata": {},
   "outputs": [
    {
     "data": {
      "image/png": "[encoded data removed]",
      "text/plain": [
       "<Figure size 432x288 with 1 Axes>"
      ]
     },
     "metadata": {
      "needs_background": "light"
     },
     "output_type": "display_data"
    },
    {
     "name": "stdout",
     "output_type": "stream",
     "text": [
      "The r-value is : 0.6378955345298054\n"
     ]
    }
   ],
   "source": [
    "x_values_south = south_hemisphere['Lat']\n",
    "y_values_south_temp = south_hemisphere['Max Temp']\n",
    "\n",
    "(slope, intercept, rvalue, pvalue, stderr) = linregress(x_values_south , y_values_south_temp)\n",
    "regress_values = x_values_south  *slope +intercept\n",
    "line_eq = \"y = \" + str(round(slope,2)) + \"x + \" + str(round(intercept,2))\n",
    "plt.scatter(x_values_south , y_values_south_temp)\n",
    "plt.plot(x_values_south , regress_values, \"r-\")\n",
    "plt.annotate(line_eq, (-55,85), fontsize=15, color = 'red')\n",
    "plt.xlabel('Latitude')\n",
    "plt.ylabel('Max Temp (F)')\n",
    "plt.show()\n",
    "print(f\"The r-value is : {rvalue**2}\")"
   ]
  },
  {
   "cell_type": "markdown",
   "metadata": {},
   "source": [
    "####  Northern Hemisphere - Humidity (%) vs. Latitude Linear Regression"
   ]
  },
  {
   "cell_type": "code",
   "execution_count": 138,
   "metadata": {},
   "outputs": [
    {
     "data": {
      "image/png": "[encoded data removed]",
      "text/plain": [
       "<Figure size 432x288 with 1 Axes>"
      ]
     },
     "metadata": {
      "needs_background": "light"
     },
     "output_type": "display_data"
    },
    {
     "name": "stdout",
     "output_type": "stream",
     "text": [
      "The r-value is : 0.000849039303936058\n"
     ]
    }
   ],
   "source": [
    "y_values_north_humid = north_hemisphere['Humidity']\n",
    "\n",
    "(slope, intercept, rvalue, pvalue, stderr) =  linregress(x_values_north, y_values_north_humid)\n",
    "regress_values = x_values_north *slope +intercept\n",
    "line_eq = \"y = \" + str(round(slope,2)) + \"x + \" + str(round(intercept,2))\n",
    "plt.scatter(x_values_north, y_values_north_humid)\n",
    "plt.plot(x_values_north, regress_values, \"r-\")\n",
    "plt.annotate(line_eq, (45, 10), fontsize=15, color = 'red')\n",
    "plt.xlabel('Latitude')\n",
    "plt.ylabel('Max Temp (F)')\n",
    "plt.show()\n",
    "print(f\"The r-value is : {rvalue**2}\")"
   ]
  },
  {
   "cell_type": "markdown",
   "metadata": {},
   "source": [
    "####  Southern Hemisphere - Humidity (%) vs. Latitude Linear Regression"
   ]
  },
  {
   "cell_type": "code",
   "execution_count": 139,
   "metadata": {},
   "outputs": [
    {
     "data": {
      "image/png": "[encoded data removed]",
      "text/plain": [
       "<Figure size 432x288 with 1 Axes>"
      ]
     },
     "metadata": {
      "needs_background": "light"
     },
     "output_type": "display_data"
    },
    {
     "name": "stdout",
     "output_type": "stream",
     "text": [
      "The r-value is : 0.0016666503899382904\n"
     ]
    }
   ],
   "source": [
    "y_values_south_humid = south_hemisphere['Humidity']\n",
    "\n",
    "(slope, intercept, rvalue, pvalue, stderr) =  linregress(x_values_south , y_values_south_humid)\n",
    "regress_values = x_values_south  *slope +intercept\n",
    "line_eq = \"y = \" + str(round(slope,2)) + \"x + \" + str(round(intercept,2))\n",
    "plt.scatter(x_values_south , y_values_south_humid)\n",
    "plt.plot(x_values_south , regress_values, \"r-\")\n",
    "plt.annotate(line_eq, (-55,10), fontsize=15, color = 'red')\n",
    "plt.xlabel('Latitude')\n",
    "plt.ylabel('Humidity (%)')\n",
    "plt.show()\n",
    "print(f\"The r-value is : {rvalue**2}\")"
   ]
  },
  {
   "cell_type": "markdown",
   "metadata": {},
   "source": [
    "####  Northern Hemisphere - Cloudiness (%) vs. Latitude Linear Regression"
   ]
  },
  {
   "cell_type": "code",
   "execution_count": null,
   "metadata": {},
   "outputs": [],
   "source": []
  },
  {
   "cell_type": "markdown",
   "metadata": {},
   "source": [
    "####  Southern Hemisphere - Cloudiness (%) vs. Latitude Linear Regression"
   ]
  },
  {
   "cell_type": "code",
   "execution_count": 140,
   "metadata": {},
   "outputs": [
    {
     "data": {
      "image/png": "[encoded data removed]",
      "text/plain": [
       "<Figure size 432x288 with 1 Axes>"
      ]
     },
     "metadata": {
      "needs_background": "light"
     },
     "output_type": "display_data"
    },
    {
     "name": "stdout",
     "output_type": "stream",
     "text": [
      "The r-value is : 0.00013360804558950706\n"
     ]
    }
   ],
   "source": [
    "y_values_north_cloud = north_hemisphere['Cloudiness']\n",
    "\n",
    "(slope, intercept, rvalue, pvalue, stderr) =  linregress(x_values_north, y_values_north_cloud)\n",
    "regress_values = x_values_north *slope +intercept\n",
    "line_eq = \"y = \" + str(round(slope,2)) + \"x + \" + str(round(intercept,2))\n",
    "plt.scatter(x_values_north, y_values_north_cloud)\n",
    "plt.plot(x_values_north, regress_values, \"r-\")\n",
    "plt.annotate(line_eq, (15, 49), fontsize=15, color = 'red')\n",
    "plt.xlabel('Latitude')\n",
    "plt.ylabel('Cloudiness(%)')\n",
    "plt.show()\n",
    "print(f\"The r-value is : {rvalue**2}\")"
   ]
  },
  {
   "cell_type": "markdown",
   "metadata": {},
   "source": [
    "####  Northern Hemisphere - Wind Speed (mph) vs. Latitude Linear Regression"
   ]
  },
  {
   "cell_type": "code",
   "execution_count": 141,
   "metadata": {},
   "outputs": [
    {
     "data": {
      "image/png": "[encoded data removed]",
      "text/plain": [
       "<Figure size 432x288 with 1 Axes>"
      ]
     },
     "metadata": {
      "needs_background": "light"
     },
     "output_type": "display_data"
    },
    {
     "name": "stdout",
     "output_type": "stream",
     "text": [
      "The r-value is : 9.545032935349776e-06\n"
     ]
    }
   ],
   "source": [
    "y_values_north_wind = north_hemisphere['Wind Speed']\n",
    "\n",
    "(slope, intercept, rvalue, pvalue, stderr) =  linregress(x_values_north, y_values_north_wind)\n",
    "regress_values = x_values_north *slope +intercept\n",
    "line_eq = \"y = \" + str(round(slope,2)) + \"x + \" + str(round(intercept,2))\n",
    "plt.scatter(x_values_north, y_values_north_wind)\n",
    "plt.plot(x_values_north, regress_values, \"r-\")\n",
    "plt.annotate(line_eq, (0, 25), fontsize=15, color = 'red')\n",
    "plt.xlabel('Latitude')\n",
    "plt.ylabel('Wind Speed (mph)')\n",
    "plt.show()\n",
    "print(f\"The r-value is : {rvalue**2}\")"
   ]
  },
  {
   "cell_type": "markdown",
   "metadata": {},
   "source": [
    "####  Southern Hemisphere - Wind Speed (mph) vs. Latitude Linear Regression"
   ]
  },
  {
   "cell_type": "code",
   "execution_count": 142,
   "metadata": {},
   "outputs": [
    {
     "data": {
      "image/png": "[encoded data removed]",
      "text/plain": [
       "<Figure size 432x288 with 1 Axes>"
      ]
     },
     "metadata": {
      "needs_background": "light"
     },
     "output_type": "display_data"
    },
    {
     "name": "stdout",
     "output_type": "stream",
     "text": [
      "The r-value is : 0.02666259192168921\n"
     ]
    }
   ],
   "source": [
    "\n",
    "y_values_south_wind = south_hemisphere['Wind Speed']\n",
    "\n",
    "(slope, intercept, rvalue, pvalue, stderr) =  linregress(x_values_south , y_values_south_wind)\n",
    "regress_values = x_values_south  *slope +intercept\n",
    "line_eq = \"y = \" + str(round(slope,2)) + \"x + \" + str(round(intercept,2))\n",
    "plt.scatter(x_values_south , y_values_south_wind)\n",
    "plt.plot(x_values_south , regress_values, \"r-\")\n",
    "plt.annotate(line_eq, (-25, 35), fontsize=15, color = 'red')\n",
    "plt.xlabel('Latitude')\n",
    "plt.ylabel('Wind Speed (mph)')\n",
    "plt.show()\n",
    "print(f\"The r-value is : {rvalue**2}\")"
   ]
  },
  {
   "cell_type": "code",
   "execution_count": null,
   "metadata": {},
   "outputs": [],
   "source": []
  },
  {
   "cell_type": "code",
   "execution_count": null,
   "metadata": {},
   "outputs": [],
   "source": []
  },
  {
   "cell_type": "code",
   "execution_count": null,
   "metadata": {},
   "outputs": [],
   "source": []
  }
 ],
 "metadata": {
  "anaconda-cloud": {},
  "kernel_info": {
   "name": "python3"
  },
  "kernelspec": {
   "display_name": "Python 3",
   "language": "python",
   "name": "python3"
  },
  "language_info": {
   "codemirror_mode": {
    "name": "ipython",
    "version": 3
   },
   "file_extension": ".py",
   "mimetype": "text/x-python",
   "name": "python",
   "nbconvert_exporter": "python",
   "pygments_lexer": "ipython3",
   "version": "3.8.8"
  },
  "latex_envs": {
   "LaTeX_envs_menu_present": true,
   "autoclose": false,
   "autocomplete": true,
   "bibliofile": "biblio.bib",
   "cite_by": "apalike",
   "current_citInitial": 1,
   "eqLabelWithNumbers": true,
   "eqNumInitial": 1,
   "hotkeys": {
    "equation": "Ctrl-E",
    "itemize": "Ctrl-I"
   },
   "labels_anchors": false,
   "latex_user_defs": false,
   "report_style_numbering": false,
   "user_envs_cfg": false
  },
  "nteract": {
   "version": "0.12.3"
  }
 },
 "nbformat": 4,
 "nbformat_minor": 2
}
